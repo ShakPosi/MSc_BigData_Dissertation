{
 "cells": [
  {
   "cell_type": "markdown",
   "metadata": {},
   "source": [
    "# Sentiment Classifier: Training the ML Algorithm"
   ]
  },
  {
   "cell_type": "code",
   "execution_count": 1,
   "metadata": {},
   "outputs": [],
   "source": [
    "import numpy as np\n",
    "import pandas as pd\n",
    "import matplotlib.pyplot as plt\n",
    "import seaborn as sns\n",
    "import re\n",
    "import warnings\n",
    "import nltk\n",
    "from nltk.corpus import stopwords\n",
    "from termcolor import colored\n",
    "from nltk.stem import WordNetLemmatizer\n",
    "from sklearn.feature_extraction.text import CountVectorizer, TfidfVectorizer\n",
    "from sklearn.model_selection import train_test_split,KFold,cross_val_score\n",
    "from sklearn.naive_bayes import MultinomialNB\n",
    "from sklearn.tree import DecisionTreeClassifier\n",
    "from sklearn.metrics import classification_report,confusion_matrix,accuracy_score,roc_curve, auc\n",
    "#from termcolor import colored\n",
    "from nltk.stem.wordnet import WordNetLemmatizer\n",
    "from string import punctuation\n",
    "from nltk.tokenize import word_tokenize"
   ]
  },
  {
   "cell_type": "code",
   "execution_count": 2,
   "metadata": {},
   "outputs": [],
   "source": [
    "lemma = WordNetLemmatizer()\n",
    "STOPWORDS=set(stopwords.words('english')+list(punctuation))\n",
    "STOPWORDS.remove(\"not\")"
   ]
  },
  {
   "cell_type": "markdown",
   "metadata": {},
   "source": [
    "# 1 LOADING LABELLED DATA"
   ]
  },
  {
   "cell_type": "code",
   "execution_count": 3,
   "metadata": {},
   "outputs": [],
   "source": [
    "sentimentData=pd.read_csv('labelledTweets.csv')"
   ]
  },
  {
   "cell_type": "code",
   "execution_count": 4,
   "metadata": {},
   "outputs": [
    {
     "name": "stdout",
     "output_type": "stream",
     "text": [
      "<class 'pandas.core.frame.DataFrame'>\n",
      "RangeIndex: 5948 entries, 0 to 5947\n",
      "Data columns (total 6 columns):\n",
      " #   Column           Non-Null Count  Dtype \n",
      "---  ------           --------------  ----- \n",
      " 0   TweetsID         5948 non-null   object\n",
      " 1   Cleaned_Tweets   5948 non-null   object\n",
      " 2   CleanText        5948 non-null   object\n",
      " 3   Positive         5948 non-null   int64 \n",
      " 4   Negative         5948 non-null   int64 \n",
      " 5   Sentiment_score  5948 non-null   object\n",
      "dtypes: int64(2), object(4)\n",
      "memory usage: 278.9+ KB\n"
     ]
    }
   ],
   "source": [
    "sentimentData.info()"
   ]
  },
  {
   "cell_type": "code",
   "execution_count": null,
   "metadata": {},
   "outputs": [],
   "source": []
  },
  {
   "cell_type": "code",
   "execution_count": 5,
   "metadata": {},
   "outputs": [
    {
     "data": {
      "text/html": [
       "<div>\n",
       "<style scoped>\n",
       "    .dataframe tbody tr th:only-of-type {\n",
       "        vertical-align: middle;\n",
       "    }\n",
       "\n",
       "    .dataframe tbody tr th {\n",
       "        vertical-align: top;\n",
       "    }\n",
       "\n",
       "    .dataframe thead th {\n",
       "        text-align: right;\n",
       "    }\n",
       "</style>\n",
       "<table border=\"1\" class=\"dataframe\">\n",
       "  <thead>\n",
       "    <tr style=\"text-align: right;\">\n",
       "      <th></th>\n",
       "      <th>TweetsID</th>\n",
       "      <th>Cleaned_Tweets</th>\n",
       "      <th>CleanText</th>\n",
       "      <th>Positive</th>\n",
       "      <th>Negative</th>\n",
       "      <th>Sentiment_score</th>\n",
       "    </tr>\n",
       "  </thead>\n",
       "  <tbody>\n",
       "    <tr>\n",
       "      <th>0</th>\n",
       "      <td>62c025362199f17ae64a6e30</td>\n",
       "      <td>the insurance industry has an opportunity to d...</td>\n",
       "      <td>insurance industry opportunity develop affirma...</td>\n",
       "      <td>1</td>\n",
       "      <td>-2</td>\n",
       "      <td>Negative</td>\n",
       "    </tr>\n",
       "    <tr>\n",
       "      <th>1</th>\n",
       "      <td>62c02a9e2199f17ae64a6e3b</td>\n",
       "      <td>user_mention user_mention user_mention user_me...</td>\n",
       "      <td>wellknown socialist come man silly explain ple...</td>\n",
       "      <td>2</td>\n",
       "      <td>-3</td>\n",
       "      <td>Negative</td>\n",
       "    </tr>\n",
       "  </tbody>\n",
       "</table>\n",
       "</div>"
      ],
      "text/plain": [
       "                   TweetsID  \\\n",
       "0  62c025362199f17ae64a6e30   \n",
       "1  62c02a9e2199f17ae64a6e3b   \n",
       "\n",
       "                                      Cleaned_Tweets  \\\n",
       "0  the insurance industry has an opportunity to d...   \n",
       "1  user_mention user_mention user_mention user_me...   \n",
       "\n",
       "                                           CleanText  Positive  Negative  \\\n",
       "0  insurance industry opportunity develop affirma...         1        -2   \n",
       "1  wellknown socialist come man silly explain ple...         2        -3   \n",
       "\n",
       "  Sentiment_score  \n",
       "0        Negative  \n",
       "1        Negative  "
      ]
     },
     "execution_count": 5,
     "metadata": {},
     "output_type": "execute_result"
    }
   ],
   "source": [
    "sentimentData.head(2)"
   ]
  },
  {
   "cell_type": "code",
   "execution_count": 6,
   "metadata": {},
   "outputs": [],
   "source": [
    "processing_Data=sentimentData.copy()"
   ]
  },
  {
   "cell_type": "code",
   "execution_count": 7,
   "metadata": {},
   "outputs": [],
   "source": [
    "processing_Data.drop(['TweetsID','Cleaned_Tweets','Positive','Negative'], axis = 1, inplace = True)"
   ]
  },
  {
   "cell_type": "code",
   "execution_count": 8,
   "metadata": {},
   "outputs": [
    {
     "data": {
      "text/html": [
       "<div>\n",
       "<style scoped>\n",
       "    .dataframe tbody tr th:only-of-type {\n",
       "        vertical-align: middle;\n",
       "    }\n",
       "\n",
       "    .dataframe tbody tr th {\n",
       "        vertical-align: top;\n",
       "    }\n",
       "\n",
       "    .dataframe thead th {\n",
       "        text-align: right;\n",
       "    }\n",
       "</style>\n",
       "<table border=\"1\" class=\"dataframe\">\n",
       "  <thead>\n",
       "    <tr style=\"text-align: right;\">\n",
       "      <th></th>\n",
       "      <th>CleanText</th>\n",
       "      <th>Sentiment_score</th>\n",
       "    </tr>\n",
       "  </thead>\n",
       "  <tbody>\n",
       "    <tr>\n",
       "      <th>0</th>\n",
       "      <td>insurance industry opportunity develop affirma...</td>\n",
       "      <td>Negative</td>\n",
       "    </tr>\n",
       "    <tr>\n",
       "      <th>1</th>\n",
       "      <td>wellknown socialist come man silly explain ple...</td>\n",
       "      <td>Negative</td>\n",
       "    </tr>\n",
       "  </tbody>\n",
       "</table>\n",
       "</div>"
      ],
      "text/plain": [
       "                                           CleanText Sentiment_score\n",
       "0  insurance industry opportunity develop affirma...        Negative\n",
       "1  wellknown socialist come man silly explain ple...        Negative"
      ]
     },
     "execution_count": 8,
     "metadata": {},
     "output_type": "execute_result"
    }
   ],
   "source": [
    "processing_Data.head(2)"
   ]
  },
  {
   "cell_type": "markdown",
   "metadata": {},
   "source": [
    "##   2 Performing labelling encoding"
   ]
  },
  {
   "cell_type": "code",
   "execution_count": 9,
   "metadata": {},
   "outputs": [],
   "source": [
    "processing_Data.loc[processing_Data['Sentiment_score']=='Positive','Sentiment_score']=1"
   ]
  },
  {
   "cell_type": "code",
   "execution_count": 10,
   "metadata": {},
   "outputs": [],
   "source": [
    "processing_Data.loc[processing_Data['Sentiment_score']=='Neutral','Sentiment_score']=0"
   ]
  },
  {
   "cell_type": "code",
   "execution_count": 11,
   "metadata": {},
   "outputs": [],
   "source": [
    "processing_Data.loc[processing_Data['Sentiment_score']=='Negative','Sentiment_score']=-1"
   ]
  },
  {
   "cell_type": "code",
   "execution_count": 12,
   "metadata": {},
   "outputs": [
    {
     "data": {
      "text/html": [
       "<div>\n",
       "<style scoped>\n",
       "    .dataframe tbody tr th:only-of-type {\n",
       "        vertical-align: middle;\n",
       "    }\n",
       "\n",
       "    .dataframe tbody tr th {\n",
       "        vertical-align: top;\n",
       "    }\n",
       "\n",
       "    .dataframe thead th {\n",
       "        text-align: right;\n",
       "    }\n",
       "</style>\n",
       "<table border=\"1\" class=\"dataframe\">\n",
       "  <thead>\n",
       "    <tr style=\"text-align: right;\">\n",
       "      <th></th>\n",
       "      <th>CleanText</th>\n",
       "      <th>Sentiment_score</th>\n",
       "    </tr>\n",
       "  </thead>\n",
       "  <tbody>\n",
       "    <tr>\n",
       "      <th>5943</th>\n",
       "      <td>children victims putins war</td>\n",
       "      <td>-1</td>\n",
       "    </tr>\n",
       "    <tr>\n",
       "      <th>5944</th>\n",
       "      <td>another result 1939 usa stay war european aggr...</td>\n",
       "      <td>-1</td>\n",
       "    </tr>\n",
       "    <tr>\n",
       "      <th>5945</th>\n",
       "      <td>since not declared war legally laws limited us...</td>\n",
       "      <td>-1</td>\n",
       "    </tr>\n",
       "    <tr>\n",
       "      <th>5946</th>\n",
       "      <td>warned west interference invasion pose threat ...</td>\n",
       "      <td>-1</td>\n",
       "    </tr>\n",
       "    <tr>\n",
       "      <th>5947</th>\n",
       "      <td>russians cashed 13 billion banks first day rus...</td>\n",
       "      <td>0</td>\n",
       "    </tr>\n",
       "  </tbody>\n",
       "</table>\n",
       "</div>"
      ],
      "text/plain": [
       "                                              CleanText Sentiment_score\n",
       "5943                        children victims putins war              -1\n",
       "5944  another result 1939 usa stay war european aggr...              -1\n",
       "5945  since not declared war legally laws limited us...              -1\n",
       "5946  warned west interference invasion pose threat ...              -1\n",
       "5947  russians cashed 13 billion banks first day rus...               0"
      ]
     },
     "execution_count": 12,
     "metadata": {},
     "output_type": "execute_result"
    }
   ],
   "source": [
    "processing_Data.tail()"
   ]
  },
  {
   "cell_type": "code",
   "execution_count": 13,
   "metadata": {},
   "outputs": [
    {
     "data": {
      "text/plain": [
       "'russians cashed 13 billion banks first day russias invasion largest amount since onset covid19 ch lto eth'"
      ]
     },
     "execution_count": 13,
     "metadata": {},
     "output_type": "execute_result"
    }
   ],
   "source": [
    "processing_Data['CleanText'][5947]"
   ]
  },
  {
   "cell_type": "code",
   "execution_count": null,
   "metadata": {},
   "outputs": [],
   "source": []
  },
  {
   "cell_type": "code",
   "execution_count": 35,
   "metadata": {},
   "outputs": [
    {
     "name": "stdout",
     "output_type": "stream",
     "text": [
      "Total distinct labelled tweets in the dataset: 4406\n"
     ]
    },
    {
     "data": {
      "text/plain": [
       "-1    3740\n",
       " 1     666\n",
       "Name: Sentiment_score, dtype: int64"
      ]
     },
     "execution_count": 35,
     "metadata": {},
     "output_type": "execute_result"
    }
   ],
   "source": [
    "# Comparing the output of the encoding to confirm it talllies with Cell 26(Distinct tweets)\n",
    "print(\"Total distinct labelled tweets in the dataset: {}\".format(processing_Data.shape[0]))\n",
    "Tweet_count = processing_Data['Sentiment_score'].value_counts()\n",
    "Tweet_count"
   ]
  },
  {
   "cell_type": "markdown",
   "metadata": {},
   "source": [
    "##    3 Removing Neutral Tweets"
   ]
  },
  {
   "cell_type": "code",
   "execution_count": 43,
   "metadata": {},
   "outputs": [],
   "source": [
    "processing_Data=processing_Data[processing_Data['Sentiment_score']!=0]"
   ]
  },
  {
   "cell_type": "code",
   "execution_count": 16,
   "metadata": {},
   "outputs": [
    {
     "name": "stdout",
     "output_type": "stream",
     "text": [
      "\n"
     ]
    },
    {
     "ename": "NameError",
     "evalue": "name 'X_train' is not defined",
     "output_type": "error",
     "traceback": [
      "\u001b[1;31m---------------------------------------------------------------------------\u001b[0m",
      "\u001b[1;31mNameError\u001b[0m                                 Traceback (most recent call last)",
      "\u001b[1;32m<ipython-input-16-ad7ef67fa967>\u001b[0m in \u001b[0;36m<module>\u001b[1;34m\u001b[0m\n\u001b[0;32m      1\u001b[0m \u001b[0mprint\u001b[0m\u001b[1;33m(\u001b[0m\u001b[1;33m)\u001b[0m\u001b[1;33m\u001b[0m\u001b[1;33m\u001b[0m\u001b[0m\n\u001b[1;32m----> 2\u001b[1;33m \u001b[0mtrain_dataset\u001b[0m \u001b[1;33m=\u001b[0m \u001b[0mpd\u001b[0m\u001b[1;33m.\u001b[0m\u001b[0mDataFrame\u001b[0m\u001b[1;33m(\u001b[0m\u001b[1;33m{\u001b[0m\u001b[1;34m'CleanText'\u001b[0m\u001b[1;33m:\u001b[0m \u001b[0mX_train\u001b[0m\u001b[1;33m,\u001b[0m\u001b[1;34m'Category'\u001b[0m\u001b[1;33m:\u001b[0m \u001b[0my_train\u001b[0m\u001b[1;33m}\u001b[0m\u001b[1;33m)\u001b[0m\u001b[1;33m\u001b[0m\u001b[1;33m\u001b[0m\u001b[0m\n\u001b[0m\u001b[0;32m      3\u001b[0m \u001b[0mprint\u001b[0m\u001b[1;33m(\u001b[0m\u001b[0mcolored\u001b[0m\u001b[1;33m(\u001b[0m\u001b[1;34m\"Percentage of training dataset is : %.1f%%\"\u001b[0m \u001b[1;33m%\u001b[0m \u001b[1;33m(\u001b[0m\u001b[0mlen\u001b[0m\u001b[1;33m(\u001b[0m\u001b[0mtrain_dataset\u001b[0m\u001b[1;33m)\u001b[0m\u001b[1;33m/\u001b[0m\u001b[0mlen\u001b[0m\u001b[1;33m(\u001b[0m\u001b[0mprocessing_Data\u001b[0m\u001b[1;33m)\u001b[0m\u001b[1;33m*\u001b[0m\u001b[1;36m100\u001b[0m\u001b[1;33m)\u001b[0m\u001b[1;33m,\u001b[0m\u001b[1;34m\"green\"\u001b[0m\u001b[1;33m)\u001b[0m\u001b[1;33m)\u001b[0m\u001b[1;33m\u001b[0m\u001b[1;33m\u001b[0m\u001b[0m\n\u001b[0;32m      4\u001b[0m \u001b[0mprint\u001b[0m\u001b[1;33m(\u001b[0m\u001b[0mtrain_dataset\u001b[0m\u001b[1;33m[\u001b[0m\u001b[1;34m'Category'\u001b[0m\u001b[1;33m]\u001b[0m\u001b[1;33m.\u001b[0m\u001b[0mvalue_counts\u001b[0m\u001b[1;33m(\u001b[0m\u001b[1;33m)\u001b[0m\u001b[1;33m)\u001b[0m\u001b[1;33m\u001b[0m\u001b[1;33m\u001b[0m\u001b[0m\n\u001b[0;32m      5\u001b[0m \u001b[0mprint\u001b[0m\u001b[1;33m(\u001b[0m\u001b[1;33m)\u001b[0m\u001b[1;33m\u001b[0m\u001b[1;33m\u001b[0m\u001b[0m\n",
      "\u001b[1;31mNameError\u001b[0m: name 'X_train' is not defined"
     ]
    }
   ],
   "source": [
    "print()\n",
    "train_dataset = pd.DataFrame({'CleanText': X_train,'Category': y_train})\n",
    "print(colored(\"Percentage of training dataset is : %.1f%%\" % (len(train_dataset)/len(processing_Data)*100),\"green\"))\n",
    "print(train_dataset['Category'].value_counts())\n",
    "print()\n",
    "\n",
    "test_dataset = pd.DataFrame({'CleanText': x_test,'Category': y_test})\n",
    "print(colored(\"Percentage of testing dataset is: %.1f%%\" % (len(test_dataset)/len(processing_Data)*100),\"green\"))\n",
    "print(test_dataset['Category'].value_counts())\n",
    "\n",
    "\n",
    "train_tweet_label =train_dataset['Category'].astype('int')\n",
    "test_tweet_label = test_dataset['Category'].astype('int')\n"
   ]
  },
  {
   "cell_type": "markdown",
   "metadata": {},
   "source": [
    "##  4 Splitting to Train and Test Data"
   ]
  },
  {
   "cell_type": "code",
   "execution_count": 37,
   "metadata": {},
   "outputs": [],
   "source": [
    "dF_features=processing_Data['CleanText']\n",
    "dF_target=processing_Data['Sentiment_score']"
   ]
  },
  {
   "cell_type": "code",
   "execution_count": 38,
   "metadata": {},
   "outputs": [],
   "source": [
    "X_train, x_test, y_train, y_test = train_test_split(dF_features, dF_target, test_size=0.2, random_state=11)"
   ]
  },
  {
   "cell_type": "code",
   "execution_count": 39,
   "metadata": {},
   "outputs": [],
   "source": [
    "y_train=y_train.astype('int')\n",
    "expected=y_test=y_test.astype('int')"
   ]
  },
  {
   "cell_type": "code",
   "execution_count": 50,
   "metadata": {},
   "outputs": [
    {
     "name": "stdout",
     "output_type": "stream",
     "text": [
      "\n",
      "Percentage of training dataset is : 80.0%\n",
      "-1    3000\n",
      " 1     524\n",
      "Name: Category, dtype: int64\n",
      "\n",
      "Percentage of testing dataset is: 20.0%\n",
      "-1    740\n",
      " 1    142\n",
      "Name: Category, dtype: int64\n"
     ]
    }
   ],
   "source": [
    "print()\n",
    "train_dataset = pd.DataFrame({'CleanText': X_train,'Category': y_train})\n",
    "print(colored(\"Percentage of training dataset is : %.1f%%\" % (len(train_dataset)/len(processing_Data)*100),\"green\"))\n",
    "print(train_dataset['Category'].value_counts())\n",
    "print()\n",
    "\n",
    "test_dataset = pd.DataFrame({'CleanText': x_test,'Category': y_test})\n",
    "print(colored(\"Percentage of testing dataset is: %.1f%%\" % (len(test_dataset)/len(processing_Data)*100),\"green\"))\n",
    "print(test_dataset['Category'].value_counts())\n",
    "\n",
    "\n",
    "train_tweet_label =train_dataset['Category'].astype('int')\n",
    "test_tweet_label = test_dataset['Category'].astype('int')"
   ]
  },
  {
   "cell_type": "markdown",
   "metadata": {},
   "source": [
    "##   5 Performing Features Extraction"
   ]
  },
  {
   "cell_type": "code",
   "execution_count": 44,
   "metadata": {},
   "outputs": [],
   "source": [
    "features_Extractor=TfidfVectorizer(analyzer=lemmatize_func,min_df=1,stop_words=STOPWORDS)"
   ]
  },
  {
   "cell_type": "code",
   "execution_count": 45,
   "metadata": {},
   "outputs": [],
   "source": [
    "train_tweet_vector =features_Extractor.fit_transform(train_dataset['CleanText'])\n",
    "test_tweet_vector = features_Extractor.transform(test_dataset['CleanText'])"
   ]
  },
  {
   "cell_type": "markdown",
   "metadata": {},
   "source": [
    "# Training the model"
   ]
  },
  {
   "cell_type": "code",
   "execution_count": 46,
   "metadata": {},
   "outputs": [],
   "source": [
    "val_tweet_vector=features_Extractor.fit_transform(processing_Data['CleanText'])"
   ]
  },
  {
   "cell_type": "code",
   "execution_count": 47,
   "metadata": {},
   "outputs": [],
   "source": [
    "val_test_tweet_label=processing_Data['Sentiment_score'].map(int)"
   ]
  },
  {
   "cell_type": "code",
   "execution_count": null,
   "metadata": {},
   "outputs": [],
   "source": []
  },
  {
   "cell_type": "markdown",
   "metadata": {},
   "source": [
    "# Testing the models"
   ]
  },
  {
   "cell_type": "code",
   "execution_count": 52,
   "metadata": {},
   "outputs": [],
   "source": [
    "MNB_estimator = classifier(MultinomialNB(),train_tweet_vector,train_tweet_label,test_tweet_vector) #MNB_estimator"
   ]
  },
  {
   "cell_type": "code",
   "execution_count": null,
   "metadata": {},
   "outputs": [],
   "source": []
  },
  {
   "cell_type": "markdown",
   "metadata": {},
   "source": [
    "##  6 Model Evaluation:"
   ]
  },
  {
   "cell_type": "markdown",
   "metadata": {},
   "source": [
    "#### 1. Accuracy score"
   ]
  },
  {
   "cell_type": "code",
   "execution_count": 53,
   "metadata": {},
   "outputs": [
    {
     "name": "stdout",
     "output_type": "stream",
     "text": [
      "       MultinomialNB: accuracy score=84.24%; \n"
     ]
    }
   ],
   "source": [
    "accuracy()"
   ]
  },
  {
   "cell_type": "markdown",
   "metadata": {},
   "source": [
    "### 2. Classification_Reports"
   ]
  },
  {
   "cell_type": "code",
   "execution_count": 54,
   "metadata": {},
   "outputs": [
    {
     "name": "stdout",
     "output_type": "stream",
     "text": [
      "       MultinomialNB: classification_report\n",
      "              precision    recall  f1-score   support\n",
      "\n",
      "          -1       0.84      1.00      0.91       740\n",
      "           1       1.00      0.02      0.04       142\n",
      "\n",
      "    accuracy                           0.84       882\n",
      "   macro avg       0.92      0.51      0.48       882\n",
      "weighted avg       0.87      0.84      0.77       882\n",
      "\n"
     ]
    }
   ],
   "source": [
    "classification_Reports()"
   ]
  },
  {
   "cell_type": "markdown",
   "metadata": {},
   "source": [
    "###    3. Cross Validation using 10 folds"
   ]
  },
  {
   "cell_type": "code",
   "execution_count": 57,
   "metadata": {},
   "outputs": [
    {
     "name": "stdout",
     "output_type": "stream",
     "text": [
      "       MultinomialNB: mean accuracy=85.20%; standard deviation=1.90%\n"
     ]
    }
   ],
   "source": [
    "validation_Report()"
   ]
  },
  {
   "cell_type": "code",
   "execution_count": null,
   "metadata": {},
   "outputs": [],
   "source": []
  },
  {
   "cell_type": "markdown",
   "metadata": {},
   "source": [
    "###  4. Confusion Matrix"
   ]
  },
  {
   "cell_type": "code",
   "execution_count": 58,
   "metadata": {},
   "outputs": [
    {
     "name": "stdout",
     "output_type": "stream",
     "text": [
      "       MultinomialNB: Confusion Matrix score\n",
      "[[740   0]\n",
      " [139   3]]\n",
      "\n",
      "Predicted   -1  1  All\n",
      "Expected              \n",
      "-1         740  0  740\n",
      "1          139  3  142\n",
      "All        879  3  882\n",
      "\n",
      "\n"
     ]
    },
    {
     "data": {
      "image/png": "[encoded data removed]",
      "text/plain": [
       "<Figure size 432x288 with 2 Axes>"
      ]
     },
     "metadata": {
      "needs_background": "light"
     },
     "output_type": "display_data"
    },
    {
     "data": {
      "text/plain": [
       "<Figure size 576x576 with 0 Axes>"
      ]
     },
     "metadata": {},
     "output_type": "display_data"
    }
   ],
   "source": [
    "confusion_Matrix()"
   ]
  },
  {
   "cell_type": "code",
   "execution_count": null,
   "metadata": {},
   "outputs": [],
   "source": []
  },
  {
   "cell_type": "markdown",
   "metadata": {},
   "source": [
    "###  5. AUC ROC"
   ]
  },
  {
   "cell_type": "code",
   "execution_count": null,
   "metadata": {},
   "outputs": [],
   "source": []
  },
  {
   "cell_type": "code",
   "execution_count": 59,
   "metadata": {},
   "outputs": [
    {
     "data": {
      "image/png": "[encoded data removed]",
      "text/plain": [
       "<Figure size 432x288 with 1 Axes>"
      ]
     },
     "metadata": {
      "needs_background": "light"
     },
     "output_type": "display_data"
    }
   ],
   "source": [
    "plot_roc_curve()"
   ]
  },
  {
   "cell_type": "code",
   "execution_count": null,
   "metadata": {},
   "outputs": [],
   "source": []
  },
  {
   "cell_type": "markdown",
   "metadata": {},
   "source": [
    "# Corresponding functions used in above analysis"
   ]
  },
  {
   "cell_type": "code",
   "execution_count": 17,
   "metadata": {},
   "outputs": [],
   "source": [
    "#1. 1.User defined functuions to tokennize tweets"
   ]
  },
  {
   "cell_type": "code",
   "execution_count": 18,
   "metadata": {},
   "outputs": [],
   "source": [
    "def lemmatize_func(tweets):\n",
    "    tweets_Text=tweets.lower()\n",
    "    words = word_tokenize(tweets_Text)\n",
    "    valid_Words=[]\n",
    "    for word in words :\n",
    "        if word in STOPWORDS:continue\n",
    "        valid_Words.append(word)\n",
    "    return [lemma.lemmatize(word) for word in valid_Words]"
   ]
  },
  {
   "cell_type": "code",
   "execution_count": 19,
   "metadata": {},
   "outputs": [],
   "source": [
    "#2.User defined Dynamic Estimators/Classifiers"
   ]
  },
  {
   "cell_type": "code",
   "execution_count": 20,
   "metadata": {},
   "outputs": [],
   "source": [
    "def classifier(estimator,training_features,training_labels,test_features):\n",
    "    estimator_object = estimator\n",
    "    estimator_object.fit(training_features, training_labels)\n",
    "    predicted= estimator_object.predict(test_features)\n",
    "    return predicted"
   ]
  },
  {
   "cell_type": "code",
   "execution_count": 21,
   "metadata": {},
   "outputs": [],
   "source": [
    "# 3.User defined enumerator to group classifier"
   ]
  },
  {
   "cell_type": "code",
   "execution_count": 22,
   "metadata": {},
   "outputs": [],
   "source": [
    "estimators = {\n",
    "'MultinomialNB': MultinomialNB()\n",
    "#'DecisionTree': DecisionTreeClassifier()\n",
    "}"
   ]
  },
  {
   "cell_type": "code",
   "execution_count": 23,
   "metadata": {},
   "outputs": [],
   "source": [
    "#4.User defined function to compute 10-fold cross-validation"
   ]
  },
  {
   "cell_type": "code",
   "execution_count": 56,
   "metadata": {},
   "outputs": [],
   "source": [
    "def validation_Report():\n",
    "    for estimator_name, estimator_object in estimators.items():\n",
    "        kfold = KFold(n_splits=10, random_state=7, shuffle=True)\n",
    "        scores = cross_val_score(estimator=estimator_object,\n",
    "        X=val_tweet_vector, y=val_test_tweet_label, cv=kfold)\n",
    "        print(colored(f'{estimator_name:>20}: ' +\n",
    "        f'mean accuracy={scores.mean():.2%}; ' +\n",
    "        f'standard deviation={scores.std():.2%}',\"green\"))"
   ]
  },
  {
   "cell_type": "code",
   "execution_count": 25,
   "metadata": {},
   "outputs": [],
   "source": [
    "#5. Function to compute Accuracy"
   ]
  },
  {
   "cell_type": "code",
   "execution_count": 26,
   "metadata": {},
   "outputs": [],
   "source": [
    "def accuracy():\n",
    "    for estimator_name, estimator_object in estimators.items():\n",
    "        model=estimator_object\n",
    "        model.fit(train_tweet_vector,train_tweet_label)\n",
    "        scores =model.score(test_tweet_vector, test_tweet_label)\n",
    "        print(f'{estimator_name:>20}: ' +f'accuracy score={scores:.2%}; ')"
   ]
  },
  {
   "cell_type": "code",
   "execution_count": 27,
   "metadata": {},
   "outputs": [],
   "source": [
    "#6. Function to plot Confusion Matrix"
   ]
  },
  {
   "cell_type": "code",
   "execution_count": 28,
   "metadata": {},
   "outputs": [],
   "source": [
    "\n",
    "def confusion_Matrix():\n",
    "    for estimator_name, estimator_object in estimators.items():\n",
    "        model=estimator_object\n",
    "        pred=classifier(model,train_tweet_vector,train_tweet_label,test_tweet_vector)\n",
    "        confusion = confusion_matrix(test_tweet_label,pred )\n",
    "        print(colored(f'{estimator_name:>20}: ' +f'Confusion Matrix score',\"green\"));\n",
    "        print(confusion)\n",
    "        confusion_df = pd.DataFrame(confusion, index=range(2),columns=range(2))\n",
    "        print()\n",
    "        z=pd.crosstab(test_tweet_label,pred,rownames=['Expected'], colnames=['Predicted'],margins=True)\n",
    "        print(z)\n",
    "        print()\n",
    "        ax= plt.subplot()\n",
    "        sns.heatmap(confusion_df, annot=True,ax=ax,cmap='nipy_spectral_r',fmt ='d')\n",
    "        print()\n",
    "        plt.figure(figsize=(8, 8))\n",
    "        # labels, title and ticks\n",
    "        ax.set_xlabel('Predicted');ax.set_ylabel('Expected');\n",
    "        ax.set_title('Confusion Matrix:'f'{estimator_name:>20}');\n",
    "        ax.xaxis.set_ticklabels(['Not-Relevant', 'Relevant']); ax.yaxis.set_ticklabels(['Not-Relevant', 'Relevant']);"
   ]
  },
  {
   "cell_type": "code",
   "execution_count": 29,
   "metadata": {},
   "outputs": [],
   "source": [
    "#7. Function to plot AUC ROC"
   ]
  },
  {
   "cell_type": "code",
   "execution_count": 30,
   "metadata": {},
   "outputs": [],
   "source": [
    "def plot_roc_curve():\n",
    "    for estimator_name, estimator_object in estimators.items():\n",
    "        model=estimator_object\n",
    "        model.fit(train_tweet_vector,train_tweet_label)\n",
    "        preds = model.predict_proba(test_tweet_vector)[:,1]\n",
    "        fpr, tpr, threshold = roc_curve(expected, preds)\n",
    "        roc_auc = auc(fpr, tpr)\n",
    "        plt.title('Receiver Operating Characteristic:'f'{estimator_name:>20}')\n",
    "        plt.plot(fpr, tpr, 'b', label = 'AUC = %0.2f' % roc_auc)\n",
    "        plt.legend(loc = 'lower right')\n",
    "        plt.plot([0, 1], [0, 1],'r--')\n",
    "        plt.xlim([0, 1])\n",
    "        plt.ylim([0, 1])\n",
    "        plt.ylabel('True Positive Rate')\n",
    "        plt.xlabel('False Positive Rate')\n",
    "        plt.show()"
   ]
  },
  {
   "cell_type": "code",
   "execution_count": 31,
   "metadata": {},
   "outputs": [],
   "source": [
    "#8. Function to compute classification report"
   ]
  },
  {
   "cell_type": "code",
   "execution_count": 32,
   "metadata": {},
   "outputs": [],
   "source": [
    "def classification_Reports():\n",
    "    for estimator_name, estimator_object in estimators.items():\n",
    "        model=estimator_object\n",
    "        class_reports = (classification_report(test_tweet_label, classifier(model,train_tweet_vector,train_tweet_label,test_tweet_vector)))\n",
    "        scores =model.score(test_tweet_vector, test_tweet_label)\n",
    "        print(colored(f'{estimator_name:>20}: ' +f'classification_report',\"green\"))\n",
    "        print(class_reports)"
   ]
  },
  {
   "cell_type": "code",
   "execution_count": null,
   "metadata": {},
   "outputs": [],
   "source": []
  }
 ],
 "metadata": {
  "kernelspec": {
   "display_name": "Python 3",
   "language": "python",
   "name": "python3"
  },
  "language_info": {
   "codemirror_mode": {
    "name": "ipython",
    "version": 3
   },
   "file_extension": ".py",
   "mimetype": "text/x-python",
   "name": "python",
   "nbconvert_exporter": "python",
   "pygments_lexer": "ipython3",
   "version": "3.7.6"
  }
 },
 "nbformat": 4,
 "nbformat_minor": 4
}
