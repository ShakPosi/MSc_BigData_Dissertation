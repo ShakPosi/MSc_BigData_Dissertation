{
 "cells": [
  {
   "cell_type": "markdown",
   "metadata": {},
   "source": [
    "# Stage 3. Crisis Detector: Classification to Relevant and Non-Relevant Tweets"
   ]
  },
  {
   "cell_type": "code",
   "execution_count": 1,
   "metadata": {},
   "outputs": [],
   "source": [
    "import pandas as pd\n",
    "from termcolor import colored\n",
    "from nltk.stem.wordnet import WordNetLemmatizer\n",
    "from string import punctuation\n",
    "from nltk.tokenize import word_tokenize\n",
    "from nltk.corpus import stopwords\n",
    "import csv\n",
    "import re\n",
    "import matplotlib.pyplot as plt\n",
    "import seaborn as sms"
   ]
  },
  {
   "cell_type": "code",
   "execution_count": 11,
   "metadata": {},
   "outputs": [],
   "source": [
    "lemma = WordNetLemmatizer()\n",
    "STOPWORDS=set(stopwords.words('english')+list(punctuation))\n",
    "STOPWORDS.remove(\"not\")"
   ]
  },
  {
   "cell_type": "code",
   "execution_count": 12,
   "metadata": {},
   "outputs": [],
   "source": [
    "data=pd.read_csv('Cleaned.csv')"
   ]
  },
  {
   "cell_type": "code",
   "execution_count": 13,
   "metadata": {},
   "outputs": [
    {
     "data": {
      "text/html": [
       "<div>\n",
       "<style scoped>\n",
       "    .dataframe tbody tr th:only-of-type {\n",
       "        vertical-align: middle;\n",
       "    }\n",
       "\n",
       "    .dataframe tbody tr th {\n",
       "        vertical-align: top;\n",
       "    }\n",
       "\n",
       "    .dataframe thead th {\n",
       "        text-align: right;\n",
       "    }\n",
       "</style>\n",
       "<table border=\"1\" class=\"dataframe\">\n",
       "  <thead>\n",
       "    <tr style=\"text-align: right;\">\n",
       "      <th></th>\n",
       "      <th>TweetsID</th>\n",
       "      <th>RawTweets</th>\n",
       "      <th>Cleaned_Tweets</th>\n",
       "      <th>User_Location</th>\n",
       "      <th>Date</th>\n",
       "    </tr>\n",
       "  </thead>\n",
       "  <tbody>\n",
       "    <tr>\n",
       "      <th>0</th>\n",
       "      <td>62c025362199f17ae64a6e30</td>\n",
       "      <td>The insurance industry has an opportunity to d...</td>\n",
       "      <td>the insurance industry has an opportunity to d...</td>\n",
       "      <td>London, UK</td>\n",
       "      <td>Sat Jul 02 11:00:00 +0000 2022</td>\n",
       "    </tr>\n",
       "    <tr>\n",
       "      <th>1</th>\n",
       "      <td>62c02a912199f17ae64a6e39</td>\n",
       "      <td>A good perspective on the #Russia fake narrati...</td>\n",
       "      <td>a good perspective on the russia fake narrativ...</td>\n",
       "      <td>Worldwide</td>\n",
       "      <td>Sat Jul 02 11:22:52 +0000 2022</td>\n",
       "    </tr>\n",
       "    <tr>\n",
       "      <th>2</th>\n",
       "      <td>62c02a9e2199f17ae64a6e3b</td>\n",
       "      <td>@MU53701477 @abipittbull @Renehaehnlein @Ljudm...</td>\n",
       "      <td>user_mention user_mention user_mention user_me...</td>\n",
       "      <td>NaN</td>\n",
       "      <td>Sat Jul 02 11:23:05 +0000 2022</td>\n",
       "    </tr>\n",
       "    <tr>\n",
       "      <th>3</th>\n",
       "      <td>62c02ad82199f17ae64a6e3d</td>\n",
       "      <td>Latest Russia-Ukraine War: Live Updates https:...</td>\n",
       "      <td>latest russiaukraine war live updates URL late...</td>\n",
       "      <td>NaN</td>\n",
       "      <td>Sat Jul 02 11:24:03 +0000 2022</td>\n",
       "    </tr>\n",
       "    <tr>\n",
       "      <th>4</th>\n",
       "      <td>62c031185dcb23acdffbcf2d</td>\n",
       "      <td>@EU_Commission @ua_parliament Today, the most ...</td>\n",
       "      <td>user_mention user_mention today the most impor...</td>\n",
       "      <td>NaN</td>\n",
       "      <td>Sat Jul 02 11:50:43 +0000 2022</td>\n",
       "    </tr>\n",
       "  </tbody>\n",
       "</table>\n",
       "</div>"
      ],
      "text/plain": [
       "                   TweetsID  \\\n",
       "0  62c025362199f17ae64a6e30   \n",
       "1  62c02a912199f17ae64a6e39   \n",
       "2  62c02a9e2199f17ae64a6e3b   \n",
       "3  62c02ad82199f17ae64a6e3d   \n",
       "4  62c031185dcb23acdffbcf2d   \n",
       "\n",
       "                                           RawTweets  \\\n",
       "0  The insurance industry has an opportunity to d...   \n",
       "1  A good perspective on the #Russia fake narrati...   \n",
       "2  @MU53701477 @abipittbull @Renehaehnlein @Ljudm...   \n",
       "3  Latest Russia-Ukraine War: Live Updates https:...   \n",
       "4  @EU_Commission @ua_parliament Today, the most ...   \n",
       "\n",
       "                                      Cleaned_Tweets User_Location  \\\n",
       "0  the insurance industry has an opportunity to d...    London, UK   \n",
       "1  a good perspective on the russia fake narrativ...     Worldwide   \n",
       "2  user_mention user_mention user_mention user_me...           NaN   \n",
       "3  latest russiaukraine war live updates URL late...           NaN   \n",
       "4  user_mention user_mention today the most impor...           NaN   \n",
       "\n",
       "                             Date  \n",
       "0  Sat Jul 02 11:00:00 +0000 2022  \n",
       "1  Sat Jul 02 11:22:52 +0000 2022  \n",
       "2  Sat Jul 02 11:23:05 +0000 2022  \n",
       "3  Sat Jul 02 11:24:03 +0000 2022  \n",
       "4  Sat Jul 02 11:50:43 +0000 2022  "
      ]
     },
     "execution_count": 13,
     "metadata": {},
     "output_type": "execute_result"
    }
   ],
   "source": [
    "data.head()"
   ]
  },
  {
   "cell_type": "code",
   "execution_count": 14,
   "metadata": {},
   "outputs": [],
   "source": [
    "tweets=classify()"
   ]
  },
  {
   "cell_type": "code",
   "execution_count": 15,
   "metadata": {},
   "outputs": [
    {
     "data": {
      "text/plain": [
       "{'TweetsID': '62c025362199f17ae64a6e30',\n",
       " 'RawTweets': 'The insurance industry has an opportunity to develop ’affirmative physical damage offerings’\\nhttps://t.co/keH0CIswZV\\n@LloydsofLondon\\n #Cambridgecentreofriskstudies\\n#RussiaUkraine #Cyber #Risk #GeopoliticalRisk',\n",
       " 'Cleaned_Tweets': 'the insurance industry has an opportunity to develop affirmative physical damage offerings URL user_mention cambridgecentreofriskstudies russiaukraine cyber risk geopoliticalrisk ',\n",
       " 'User_Location': 'London, UK',\n",
       " 'Date': 'Sat Jul 02 11:00:00 +0000 2022',\n",
       " 'Baseline_Terms': ['damage', 'risk'],\n",
       " 'Prediction': 1}"
      ]
     },
     "execution_count": 15,
     "metadata": {},
     "output_type": "execute_result"
    }
   ],
   "source": [
    "tweets[0]"
   ]
  },
  {
   "cell_type": "code",
   "execution_count": 16,
   "metadata": {},
   "outputs": [],
   "source": [
    "clasifiedTweetsClass=pd.DataFrame(tweets) # Converting list to Dataframes"
   ]
  },
  {
   "cell_type": "code",
   "execution_count": 19,
   "metadata": {},
   "outputs": [
    {
     "data": {
      "text/html": [
       "<div>\n",
       "<style scoped>\n",
       "    .dataframe tbody tr th:only-of-type {\n",
       "        vertical-align: middle;\n",
       "    }\n",
       "\n",
       "    .dataframe tbody tr th {\n",
       "        vertical-align: top;\n",
       "    }\n",
       "\n",
       "    .dataframe thead th {\n",
       "        text-align: right;\n",
       "    }\n",
       "</style>\n",
       "<table border=\"1\" class=\"dataframe\">\n",
       "  <thead>\n",
       "    <tr style=\"text-align: right;\">\n",
       "      <th></th>\n",
       "      <th>TweetsID</th>\n",
       "      <th>RawTweets</th>\n",
       "      <th>Cleaned_Tweets</th>\n",
       "      <th>User_Location</th>\n",
       "      <th>Date</th>\n",
       "      <th>Baseline_Terms</th>\n",
       "      <th>Prediction</th>\n",
       "    </tr>\n",
       "  </thead>\n",
       "  <tbody>\n",
       "    <tr>\n",
       "      <th>0</th>\n",
       "      <td>62c025362199f17ae64a6e30</td>\n",
       "      <td>The insurance industry has an opportunity to d...</td>\n",
       "      <td>the insurance industry has an opportunity to d...</td>\n",
       "      <td>London, UK</td>\n",
       "      <td>Sat Jul 02 11:00:00 +0000 2022</td>\n",
       "      <td>[damage, risk]</td>\n",
       "      <td>1</td>\n",
       "    </tr>\n",
       "    <tr>\n",
       "      <th>1</th>\n",
       "      <td>62c02a912199f17ae64a6e39</td>\n",
       "      <td>A good perspective on the #Russia fake narrati...</td>\n",
       "      <td>a good perspective on the russia fake narrativ...</td>\n",
       "      <td>Worldwide</td>\n",
       "      <td>Sat Jul 02 11:22:52 +0000 2022</td>\n",
       "      <td>[]</td>\n",
       "      <td>0</td>\n",
       "    </tr>\n",
       "  </tbody>\n",
       "</table>\n",
       "</div>"
      ],
      "text/plain": [
       "                   TweetsID  \\\n",
       "0  62c025362199f17ae64a6e30   \n",
       "1  62c02a912199f17ae64a6e39   \n",
       "\n",
       "                                           RawTweets  \\\n",
       "0  The insurance industry has an opportunity to d...   \n",
       "1  A good perspective on the #Russia fake narrati...   \n",
       "\n",
       "                                      Cleaned_Tweets User_Location  \\\n",
       "0  the insurance industry has an opportunity to d...    London, UK   \n",
       "1  a good perspective on the russia fake narrativ...     Worldwide   \n",
       "\n",
       "                             Date  Baseline_Terms  Prediction  \n",
       "0  Sat Jul 02 11:00:00 +0000 2022  [damage, risk]           1  \n",
       "1  Sat Jul 02 11:22:52 +0000 2022              []           0  "
      ]
     },
     "execution_count": 19,
     "metadata": {},
     "output_type": "execute_result"
    }
   ],
   "source": [
    "clasifiedTweetsClass.head(2)"
   ]
  },
  {
   "cell_type": "code",
   "execution_count": 20,
   "metadata": {},
   "outputs": [
    {
     "data": {
      "text/plain": [
       "1    5948\n",
       "0    3001\n",
       "Name: Prediction, dtype: int64"
      ]
     },
     "execution_count": 20,
     "metadata": {},
     "output_type": "execute_result"
    }
   ],
   "source": [
    "Tweet_count =clasifiedTweetsClass['Prediction'].value_counts()\n",
    "Tweet_count"
   ]
  },
  {
   "cell_type": "code",
   "execution_count": null,
   "metadata": {},
   "outputs": [],
   "source": []
  },
  {
   "cell_type": "code",
   "execution_count": 21,
   "metadata": {},
   "outputs": [
    {
     "data": {
      "image/png": "[encoded data removed]",
      "text/plain": [
       "<Figure size 648x648 with 1 Axes>"
      ]
     },
     "metadata": {
      "needs_background": "light"
     },
     "output_type": "display_data"
    }
   ],
   "source": [
    "plot_barchat()"
   ]
  },
  {
   "cell_type": "code",
   "execution_count": null,
   "metadata": {},
   "outputs": [],
   "source": []
  },
  {
   "cell_type": "code",
   "execution_count": 22,
   "metadata": {},
   "outputs": [],
   "source": [
    "classified_Tweets=clasifiedTweetsClass.copy()"
   ]
  },
  {
   "cell_type": "code",
   "execution_count": 23,
   "metadata": {},
   "outputs": [],
   "source": [
    "relevant_Tweets=classified_Tweets[classified_Tweets['Prediction']==1] #Extracting only relevants tweets"
   ]
  },
  {
   "cell_type": "code",
   "execution_count": 24,
   "metadata": {},
   "outputs": [
    {
     "data": {
      "text/html": [
       "<div>\n",
       "<style scoped>\n",
       "    .dataframe tbody tr th:only-of-type {\n",
       "        vertical-align: middle;\n",
       "    }\n",
       "\n",
       "    .dataframe tbody tr th {\n",
       "        vertical-align: top;\n",
       "    }\n",
       "\n",
       "    .dataframe thead th {\n",
       "        text-align: right;\n",
       "    }\n",
       "</style>\n",
       "<table border=\"1\" class=\"dataframe\">\n",
       "  <thead>\n",
       "    <tr style=\"text-align: right;\">\n",
       "      <th></th>\n",
       "      <th>TweetsID</th>\n",
       "      <th>RawTweets</th>\n",
       "      <th>Cleaned_Tweets</th>\n",
       "      <th>User_Location</th>\n",
       "      <th>Date</th>\n",
       "      <th>Baseline_Terms</th>\n",
       "      <th>Prediction</th>\n",
       "    </tr>\n",
       "  </thead>\n",
       "  <tbody>\n",
       "    <tr>\n",
       "      <th>0</th>\n",
       "      <td>62c025362199f17ae64a6e30</td>\n",
       "      <td>The insurance industry has an opportunity to d...</td>\n",
       "      <td>the insurance industry has an opportunity to d...</td>\n",
       "      <td>London, UK</td>\n",
       "      <td>Sat Jul 02 11:00:00 +0000 2022</td>\n",
       "      <td>[damage, risk]</td>\n",
       "      <td>1</td>\n",
       "    </tr>\n",
       "    <tr>\n",
       "      <th>2</th>\n",
       "      <td>62c02a9e2199f17ae64a6e3b</td>\n",
       "      <td>@MU53701477 @abipittbull @Renehaehnlein @Ljudm...</td>\n",
       "      <td>user_mention user_mention user_mention user_me...</td>\n",
       "      <td></td>\n",
       "      <td>Sat Jul 02 11:23:05 +0000 2022</td>\n",
       "      <td>[please]</td>\n",
       "      <td>1</td>\n",
       "    </tr>\n",
       "  </tbody>\n",
       "</table>\n",
       "</div>"
      ],
      "text/plain": [
       "                   TweetsID  \\\n",
       "0  62c025362199f17ae64a6e30   \n",
       "2  62c02a9e2199f17ae64a6e3b   \n",
       "\n",
       "                                           RawTweets  \\\n",
       "0  The insurance industry has an opportunity to d...   \n",
       "2  @MU53701477 @abipittbull @Renehaehnlein @Ljudm...   \n",
       "\n",
       "                                      Cleaned_Tweets User_Location  \\\n",
       "0  the insurance industry has an opportunity to d...    London, UK   \n",
       "2  user_mention user_mention user_mention user_me...                 \n",
       "\n",
       "                             Date  Baseline_Terms  Prediction  \n",
       "0  Sat Jul 02 11:00:00 +0000 2022  [damage, risk]           1  \n",
       "2  Sat Jul 02 11:23:05 +0000 2022        [please]           1  "
      ]
     },
     "execution_count": 24,
     "metadata": {},
     "output_type": "execute_result"
    }
   ],
   "source": [
    "relevant_Tweets.head(2)"
   ]
  },
  {
   "cell_type": "code",
   "execution_count": null,
   "metadata": {},
   "outputs": [],
   "source": []
  },
  {
   "cell_type": "code",
   "execution_count": 25,
   "metadata": {},
   "outputs": [],
   "source": [
    "clasifiedTweetsClass.to_csv('classifiedTweets2.csv', index = False) #Saving classified Tweets to CSV File"
   ]
  },
  {
   "cell_type": "code",
   "execution_count": 26,
   "metadata": {},
   "outputs": [],
   "source": [
    "relevant_Tweets.to_csv('relevantTweets.csv', index = False) #Saving relevat Tweets to CSV File"
   ]
  },
  {
   "cell_type": "code",
   "execution_count": null,
   "metadata": {},
   "outputs": [],
   "source": []
  },
  {
   "cell_type": "code",
   "execution_count": null,
   "metadata": {},
   "outputs": [],
   "source": []
  },
  {
   "cell_type": "markdown",
   "metadata": {},
   "source": [
    "##  Corresponding functions used in above Classifier"
   ]
  },
  {
   "cell_type": "code",
   "execution_count": 3,
   "metadata": {},
   "outputs": [],
   "source": [
    "#1. Function classifying Tweets as Relevant or Non-Relevant"
   ]
  },
  {
   "cell_type": "code",
   "execution_count": 2,
   "metadata": {},
   "outputs": [],
   "source": [
    "def classify():\n",
    "    lex_WORDS_FILE = 'CrisisLexRec.txt'\n",
    "    lex_words = file_to_wordset()\n",
    "    #set(open(lex_WORDS_FILE).read().split('\\n'))\n",
    "    predictions = []\n",
    "    \n",
    "    with open('Tweets2.csv', 'r',encoding=\"utf8\") as csvfile:\n",
    "        reader = csv.reader(csvfile)\n",
    "        next(reader)\n",
    "        lex1=[]\n",
    "        \n",
    "        for line in reader:\n",
    "            lex={}\n",
    "            TweetsID,RawTweets,Cleaned_Tweets,User_Location,Time_Created= line\n",
    "            lex['TweetsID']=str(TweetsID)\n",
    "            lex['RawTweets']=RawTweets\n",
    "            lex['Cleaned_Tweets']=Cleaned_Tweets\n",
    "            lex['User_Location']=User_Location\n",
    "            lex['Date']=Time_Created\n",
    "        # ignore retweets \n",
    "            pos_count=0\n",
    "            if lex['Cleaned_Tweets'].startswith('RT') or len(lex['Cleaned_Tweets']) < 4:\n",
    "                pass \n",
    "            else:\n",
    "                word=lemmatize_text(lex['Cleaned_Tweets'])\n",
    "                found_words=[]\n",
    "                for words in word:                                   \n",
    "                    if words in lex_words:\n",
    "                        found_words.append(words)\n",
    "                        pos_count += 1\n",
    "                # saving crisis terms found and overall classification of the tweet\n",
    "                lex['Baseline_Terms']=found_words\n",
    "                lex['Prediction'] = 1 if pos_count >=1 else 0\n",
    "                lex1.append(lex)\n",
    "        return lex1"
   ]
  },
  {
   "cell_type": "code",
   "execution_count": 4,
   "metadata": {},
   "outputs": [],
   "source": [
    "#2.  Function for lemmatizing Tweets words"
   ]
  },
  {
   "cell_type": "code",
   "execution_count": 7,
   "metadata": {},
   "outputs": [],
   "source": [
    "def lemmatize_text(tweets):  \n",
    "    tweets = word_tokenize(tweets)\n",
    "    valid_Words=[]\n",
    "    for word in tweets :\n",
    "        if word in STOPWORDS or word=='URL' or word=='user_mention' or word=='hurricanelaura' or word=='amp'or word=='delta'or word=='louisiana' or word=='laura' or word=='hurricane' or word=='zeta' or word=='hurricanedelta'or word=='amp' or word=='dsnap' or word=='gtgt' or 'hurricane' in word or word=='…' :continue\n",
    "        valid_Words.append(word)\n",
    "        tweets=[lemma.lemmatize(word) for word in valid_Words]\n",
    "    return tweets"
   ]
  },
  {
   "cell_type": "code",
   "execution_count": 6,
   "metadata": {},
   "outputs": [],
   "source": [
    "#3. Dictionary of Crisis words"
   ]
  },
  {
   "cell_type": "code",
   "execution_count": 8,
   "metadata": {},
   "outputs": [],
   "source": [
    "def file_to_wordset():\n",
    "    ''' Converts a file with a word per line to a Python set '''\n",
    "    words1 = []\n",
    "    with open('CrisisLexRec.txt', 'r',encoding=\"utf8\") as f:\n",
    "        for line in f:\n",
    "            words = word_tokenize(line)\n",
    "            word=[lemma.lemmatize(word) for word in words]\n",
    "            for words in word:\n",
    "                #print(words)\n",
    "            #words.append(line.strip())\n",
    "                words1.append(words)\n",
    "    return set(words1)"
   ]
  },
  {
   "cell_type": "code",
   "execution_count": 9,
   "metadata": {},
   "outputs": [],
   "source": [
    "#4. Bar chat of Relevant vs Non-Relevant"
   ]
  },
  {
   "cell_type": "code",
   "execution_count": 10,
   "metadata": {},
   "outputs": [],
   "source": [
    "def plot_barchat():\n",
    "    plt.figure(figsize = (9, 9))\n",
    "    plt.bar(['Relevant', 'Non-Relevant'], Tweet_count.values, color = ['g', 'r'])\n",
    "    for i, v in enumerate(Tweet_count.values):\n",
    "        plt.text(i - 0.1, v + 100, str(v))\n",
    "        plt.xlabel(\"Tweets Categories\")\n",
    "        plt.ylabel(\"Tweets count\")\n",
    "        plt.title(\"CLASS DISTRIBUTION: Relevant vs Non-Relevant\")\n",
    "        plt.savefig('compare_class.png')\n",
    "        colors = {'Relevant':'green', 'Non-Relevant':'red'}\n",
    "        labels = list(colors.keys())\n",
    "        handles = plt.bar(['Relevant', 'Non-Relevant'], Tweet_count.values, color = ['g', 'r'])\n",
    "        plt.legend(handles,labels)"
   ]
  },
  {
   "cell_type": "code",
   "execution_count": null,
   "metadata": {},
   "outputs": [],
   "source": []
  }
 ],
 "metadata": {
  "kernelspec": {
   "display_name": "Python 3",
   "language": "python",
   "name": "python3"
  },
  "language_info": {
   "codemirror_mode": {
    "name": "ipython",
    "version": 3
   },
   "file_extension": ".py",
   "mimetype": "text/x-python",
   "name": "python",
   "nbconvert_exporter": "python",
   "pygments_lexer": "ipython3",
   "version": "3.7.6"
  }
 },
 "nbformat": 4,
 "nbformat_minor": 4
}
