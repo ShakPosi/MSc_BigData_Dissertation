{
 "cells": [
  {
   "cell_type": "markdown",
   "metadata": {},
   "source": [
    "# Stage 2: Pre-processing to remove noise from Tweets"
   ]
  },
  {
   "cell_type": "code",
   "execution_count": 6,
   "metadata": {},
   "outputs": [],
   "source": [
    "import pandas as pd"
   ]
  },
  {
   "cell_type": "code",
   "execution_count": 3,
   "metadata": {},
   "outputs": [],
   "source": [
    "raw_Tweets=pd.read_csv('Dissertation/data/Tweets.csv')"
   ]
  },
  {
   "cell_type": "code",
   "execution_count": 4,
   "metadata": {},
   "outputs": [],
   "source": [
    "rawTwit=raw_Tweets.copy()"
   ]
  },
  {
   "cell_type": "code",
   "execution_count": 5,
   "metadata": {},
   "outputs": [
    {
     "name": "stdout",
     "output_type": "stream",
     "text": [
      "<class 'pandas.core.frame.DataFrame'>\n",
      "RangeIndex: 82126 entries, 0 to 82125\n",
      "Data columns (total 10 columns):\n",
      " #   Column                    Non-Null Count  Dtype \n",
      "---  ------                    --------------  ----- \n",
      " 0   _id                       82126 non-null  object\n",
      " 1   created_at                82126 non-null  object\n",
      " 2   id                        82126 non-null  int64 \n",
      " 3   text                      82126 non-null  object\n",
      " 4   source                    82126 non-null  object\n",
      " 5   truncated                 82126 non-null  bool  \n",
      " 6   user.screen_name          82126 non-null  object\n",
      " 7   user.location             49283 non-null  object\n",
      " 8   user.description          64254 non-null  object\n",
      " 9   extended_tweet.full_text  12664 non-null  object\n",
      "dtypes: bool(1), int64(1), object(8)\n",
      "memory usage: 5.7+ MB\n"
     ]
    }
   ],
   "source": [
    "rawTwit.info()"
   ]
  },
  {
   "cell_type": "code",
   "execution_count": 8,
   "metadata": {},
   "outputs": [
    {
     "data": {
      "text/html": [
       "<div>\n",
       "<style scoped>\n",
       "    .dataframe tbody tr th:only-of-type {\n",
       "        vertical-align: middle;\n",
       "    }\n",
       "\n",
       "    .dataframe tbody tr th {\n",
       "        vertical-align: top;\n",
       "    }\n",
       "\n",
       "    .dataframe thead th {\n",
       "        text-align: right;\n",
       "    }\n",
       "</style>\n",
       "<table border=\"1\" class=\"dataframe\">\n",
       "  <thead>\n",
       "    <tr style=\"text-align: right;\">\n",
       "      <th></th>\n",
       "      <th>_id</th>\n",
       "      <th>created_at</th>\n",
       "      <th>id</th>\n",
       "      <th>text</th>\n",
       "      <th>source</th>\n",
       "      <th>truncated</th>\n",
       "      <th>user.screen_name</th>\n",
       "      <th>user.location</th>\n",
       "      <th>user.description</th>\n",
       "      <th>extended_tweet.full_text</th>\n",
       "    </tr>\n",
       "  </thead>\n",
       "  <tbody>\n",
       "    <tr>\n",
       "      <th>0</th>\n",
       "      <td>62c025362199f17ae64a6e30</td>\n",
       "      <td>Sat Jul 02 11:00:00 +0000 2022</td>\n",
       "      <td>1543187731546644482</td>\n",
       "      <td>The insurance industry has an opportunity to d...</td>\n",
       "      <td>&lt;a href=\"https://about.twitter.com/products/tw...</td>\n",
       "      <td>True</td>\n",
       "      <td>InsuranceTimes_</td>\n",
       "      <td>London, UK</td>\n",
       "      <td>The best insurance news, analysis, research &amp; ...</td>\n",
       "      <td>The insurance industry has an opportunity to d...</td>\n",
       "    </tr>\n",
       "    <tr>\n",
       "      <th>1</th>\n",
       "      <td>62c025362199f17ae64a6e2f</td>\n",
       "      <td>Sat Jul 02 11:00:00 +0000 2022</td>\n",
       "      <td>1543187731546644482</td>\n",
       "      <td>The insurance industry has an opportunity to d...</td>\n",
       "      <td>&lt;a href=\"https://about.twitter.com/products/tw...</td>\n",
       "      <td>True</td>\n",
       "      <td>InsuranceTimes_</td>\n",
       "      <td>London, UK</td>\n",
       "      <td>The best insurance news, analysis, research &amp; ...</td>\n",
       "      <td>The insurance industry has an opportunity to d...</td>\n",
       "    </tr>\n",
       "  </tbody>\n",
       "</table>\n",
       "</div>"
      ],
      "text/plain": [
       "                        _id                      created_at  \\\n",
       "0  62c025362199f17ae64a6e30  Sat Jul 02 11:00:00 +0000 2022   \n",
       "1  62c025362199f17ae64a6e2f  Sat Jul 02 11:00:00 +0000 2022   \n",
       "\n",
       "                    id                                               text  \\\n",
       "0  1543187731546644482  The insurance industry has an opportunity to d...   \n",
       "1  1543187731546644482  The insurance industry has an opportunity to d...   \n",
       "\n",
       "                                              source  truncated  \\\n",
       "0  <a href=\"https://about.twitter.com/products/tw...       True   \n",
       "1  <a href=\"https://about.twitter.com/products/tw...       True   \n",
       "\n",
       "  user.screen_name user.location  \\\n",
       "0  InsuranceTimes_    London, UK   \n",
       "1  InsuranceTimes_    London, UK   \n",
       "\n",
       "                                    user.description  \\\n",
       "0  The best insurance news, analysis, research & ...   \n",
       "1  The best insurance news, analysis, research & ...   \n",
       "\n",
       "                            extended_tweet.full_text  \n",
       "0  The insurance industry has an opportunity to d...  \n",
       "1  The insurance industry has an opportunity to d...  "
      ]
     },
     "execution_count": 8,
     "metadata": {},
     "output_type": "execute_result"
    }
   ],
   "source": [
    "rawTwit.head(2)"
   ]
  },
  {
   "cell_type": "code",
   "execution_count": 10,
   "metadata": {},
   "outputs": [],
   "source": [
    "rawTwit.loc[rawTwit['truncated']==True,'text']=rawTwit['extended_tweet.full_text']"
   ]
  },
  {
   "cell_type": "markdown",
   "metadata": {},
   "source": [
    "## Showing truncated Tweets are now updated with full Tweets text from extended tweet column"
   ]
  },
  {
   "cell_type": "code",
   "execution_count": 13,
   "metadata": {},
   "outputs": [
    {
     "data": {
      "text/plain": [
       "'The insurance industry has an opportunity to develop ’affirmative physical damage offerings’… https://t.co/F6mZPT4dJI'"
      ]
     },
     "execution_count": 13,
     "metadata": {},
     "output_type": "execute_result"
    }
   ],
   "source": [
    "raw_Tweets['text'][0]"
   ]
  },
  {
   "cell_type": "code",
   "execution_count": 14,
   "metadata": {},
   "outputs": [
    {
     "data": {
      "text/plain": [
       "'The insurance industry has an opportunity to develop ’affirmative physical damage offerings’\\nhttps://t.co/keH0CIswZV\\n@LloydsofLondon\\n #Cambridgecentreofriskstudies\\n#RussiaUkraine #Cyber #Risk #GeopoliticalRisk'"
      ]
     },
     "execution_count": 14,
     "metadata": {},
     "output_type": "execute_result"
    }
   ],
   "source": [
    "rawTwit['text'][0]"
   ]
  },
  {
   "cell_type": "markdown",
   "metadata": {},
   "source": [
    "## Drropping columns not needed for the analysis"
   ]
  },
  {
   "cell_type": "code",
   "execution_count": 16,
   "metadata": {},
   "outputs": [],
   "source": [
    "rawTwit.drop(['truncated','extended_tweet.full_text','id','source','user.screen_name','user.description'], axis = 1, inplace = True)"
   ]
  },
  {
   "cell_type": "code",
   "execution_count": 48,
   "metadata": {},
   "outputs": [
    {
     "name": "stdout",
     "output_type": "stream",
     "text": [
      "<class 'pandas.core.frame.DataFrame'>\n",
      "RangeIndex: 82126 entries, 0 to 82125\n",
      "Data columns (total 4 columns):\n",
      " #   Column         Non-Null Count  Dtype \n",
      "---  ------         --------------  ----- \n",
      " 0   TweetsID       82126 non-null  object\n",
      " 1   Date           82126 non-null  object\n",
      " 2   TweetsText     82126 non-null  object\n",
      " 3   User_Location  49283 non-null  object\n",
      "dtypes: object(4)\n",
      "memory usage: 2.5+ MB\n"
     ]
    }
   ],
   "source": [
    "rawTwit.head(2)"
   ]
  },
  {
   "cell_type": "markdown",
   "metadata": {},
   "source": [
    "## Renaming Tweet Column to human friendly name"
   ]
  },
  {
   "cell_type": "code",
   "execution_count": 36,
   "metadata": {},
   "outputs": [],
   "source": [
    "rawTwit.rename(columns={'_id': 'TweetsID', 'text': 'TweetsText','user.location':'User_Location','created_at':'Date'}, inplace=True)"
   ]
  },
  {
   "cell_type": "code",
   "execution_count": 51,
   "metadata": {},
   "outputs": [
    {
     "data": {
      "text/html": [
       "<div>\n",
       "<style scoped>\n",
       "    .dataframe tbody tr th:only-of-type {\n",
       "        vertical-align: middle;\n",
       "    }\n",
       "\n",
       "    .dataframe tbody tr th {\n",
       "        vertical-align: top;\n",
       "    }\n",
       "\n",
       "    .dataframe thead th {\n",
       "        text-align: right;\n",
       "    }\n",
       "</style>\n",
       "<table border=\"1\" class=\"dataframe\">\n",
       "  <thead>\n",
       "    <tr style=\"text-align: right;\">\n",
       "      <th></th>\n",
       "      <th>TweetsID</th>\n",
       "      <th>Date</th>\n",
       "      <th>TweetsText</th>\n",
       "      <th>User_Location</th>\n",
       "    </tr>\n",
       "  </thead>\n",
       "  <tbody>\n",
       "    <tr>\n",
       "      <th>0</th>\n",
       "      <td>62c025362199f17ae64a6e30</td>\n",
       "      <td>Sat Jul 02 11:00:00 +0000 2022</td>\n",
       "      <td>The insurance industry has an opportunity to d...</td>\n",
       "      <td>London, UK</td>\n",
       "    </tr>\n",
       "    <tr>\n",
       "      <th>1</th>\n",
       "      <td>62c025362199f17ae64a6e2f</td>\n",
       "      <td>Sat Jul 02 11:00:00 +0000 2022</td>\n",
       "      <td>The insurance industry has an opportunity to d...</td>\n",
       "      <td>London, UK</td>\n",
       "    </tr>\n",
       "  </tbody>\n",
       "</table>\n",
       "</div>"
      ],
      "text/plain": [
       "                   TweetsID                            Date  \\\n",
       "0  62c025362199f17ae64a6e30  Sat Jul 02 11:00:00 +0000 2022   \n",
       "1  62c025362199f17ae64a6e2f  Sat Jul 02 11:00:00 +0000 2022   \n",
       "\n",
       "                                          TweetsText User_Location  \n",
       "0  The insurance industry has an opportunity to d...    London, UK  \n",
       "1  The insurance industry has an opportunity to d...    London, UK  "
      ]
     },
     "execution_count": 51,
     "metadata": {},
     "output_type": "execute_result"
    }
   ],
   "source": [
    "rawTwit.head(2)"
   ]
  },
  {
   "cell_type": "code",
   "execution_count": 39,
   "metadata": {},
   "outputs": [],
   "source": [
    "rawTwit.to_csv('processedTwit.csv', index = False) #Saving distinct Tweets to CSV File"
   ]
  },
  {
   "cell_type": "markdown",
   "metadata": {},
   "source": [
    "## Loading processed tweets to Dataframe"
   ]
  },
  {
   "cell_type": "code",
   "execution_count": 42,
   "metadata": {},
   "outputs": [],
   "source": [
    "Tweets=get_tweet_content()"
   ]
  },
  {
   "cell_type": "code",
   "execution_count": 43,
   "metadata": {},
   "outputs": [
    {
     "data": {
      "text/plain": [
       "{'TweetsID': '62c025362199f17ae64a6e30',\n",
       " 'RawTweets': 'The insurance industry has an opportunity to develop ’affirmative physical damage offerings’\\nhttps://t.co/keH0CIswZV\\n@LloydsofLondon\\n #Cambridgecentreofriskstudies\\n#RussiaUkraine #Cyber #Risk #GeopoliticalRisk',\n",
       " 'Cleaned_Tweets': 'the insurance industry has an opportunity to develop affirmative physical damage offerings URL user_mention cambridgecentreofriskstudies russiaukraine cyber risk geopoliticalrisk ',\n",
       " 'User_Location': 'London, UK',\n",
       " 'Date': 'Sat Jul 02 11:00:00 +0000 2022'}"
      ]
     },
     "execution_count": 43,
     "metadata": {},
     "output_type": "execute_result"
    }
   ],
   "source": [
    "Tweets[0]"
   ]
  },
  {
   "cell_type": "code",
   "execution_count": 44,
   "metadata": {},
   "outputs": [],
   "source": [
    "Tweets_dataFrame=pd.DataFrame(Tweets)"
   ]
  },
  {
   "cell_type": "code",
   "execution_count": 45,
   "metadata": {},
   "outputs": [],
   "source": [
    "processing_data=Tweets_dataFrame.copy()"
   ]
  },
  {
   "cell_type": "code",
   "execution_count": 53,
   "metadata": {},
   "outputs": [
    {
     "name": "stdout",
     "output_type": "stream",
     "text": [
      "<class 'pandas.core.frame.DataFrame'>\n",
      "RangeIndex: 17261 entries, 0 to 17260\n",
      "Data columns (total 5 columns):\n",
      " #   Column          Non-Null Count  Dtype \n",
      "---  ------          --------------  ----- \n",
      " 0   TweetsID        17261 non-null  object\n",
      " 1   RawTweets       17261 non-null  object\n",
      " 2   Cleaned_Tweets  17261 non-null  object\n",
      " 3   User_Location   17261 non-null  object\n",
      " 4   Date            17261 non-null  object\n",
      "dtypes: object(5)\n",
      "memory usage: 674.4+ KB\n"
     ]
    }
   ],
   "source": [
    "processing_data.info() #Cleaned Tweet after removing Re-Tweets"
   ]
  },
  {
   "cell_type": "markdown",
   "metadata": {},
   "source": [
    "## Checking for duplicate tweets"
   ]
  },
  {
   "cell_type": "code",
   "execution_count": 55,
   "metadata": {},
   "outputs": [
    {
     "data": {
      "text/html": [
       "<div>\n",
       "<style scoped>\n",
       "    .dataframe tbody tr th:only-of-type {\n",
       "        vertical-align: middle;\n",
       "    }\n",
       "\n",
       "    .dataframe tbody tr th {\n",
       "        vertical-align: top;\n",
       "    }\n",
       "\n",
       "    .dataframe thead th {\n",
       "        text-align: right;\n",
       "    }\n",
       "</style>\n",
       "<table border=\"1\" class=\"dataframe\">\n",
       "  <thead>\n",
       "    <tr style=\"text-align: right;\">\n",
       "      <th></th>\n",
       "      <th>TweetsID</th>\n",
       "      <th>RawTweets</th>\n",
       "      <th>Cleaned_Tweets</th>\n",
       "      <th>User_Location</th>\n",
       "      <th>Date</th>\n",
       "    </tr>\n",
       "  </thead>\n",
       "  <tbody>\n",
       "  </tbody>\n",
       "</table>\n",
       "</div>"
      ],
      "text/plain": [
       "Empty DataFrame\n",
       "Columns: [TweetsID, RawTweets, Cleaned_Tweets, User_Location, Date]\n",
       "Index: []"
      ]
     },
     "execution_count": 55,
     "metadata": {},
     "output_type": "execute_result"
    }
   ],
   "source": [
    "processing_data[processing_data.duplicated(['TweetsID'], keep='first')]"
   ]
  },
  {
   "cell_type": "code",
   "execution_count": 56,
   "metadata": {},
   "outputs": [
    {
     "data": {
      "text/html": [
       "<div>\n",
       "<style scoped>\n",
       "    .dataframe tbody tr th:only-of-type {\n",
       "        vertical-align: middle;\n",
       "    }\n",
       "\n",
       "    .dataframe tbody tr th {\n",
       "        vertical-align: top;\n",
       "    }\n",
       "\n",
       "    .dataframe thead th {\n",
       "        text-align: right;\n",
       "    }\n",
       "</style>\n",
       "<table border=\"1\" class=\"dataframe\">\n",
       "  <thead>\n",
       "    <tr style=\"text-align: right;\">\n",
       "      <th></th>\n",
       "      <th>TweetsID</th>\n",
       "      <th>RawTweets</th>\n",
       "      <th>Cleaned_Tweets</th>\n",
       "      <th>User_Location</th>\n",
       "      <th>Date</th>\n",
       "    </tr>\n",
       "  </thead>\n",
       "  <tbody>\n",
       "    <tr>\n",
       "      <th>1</th>\n",
       "      <td>62c025362199f17ae64a6e2f</td>\n",
       "      <td>The insurance industry has an opportunity to d...</td>\n",
       "      <td>the insurance industry has an opportunity to d...</td>\n",
       "      <td>London, UK</td>\n",
       "      <td>Sat Jul 02 11:00:00 +0000 2022</td>\n",
       "    </tr>\n",
       "    <tr>\n",
       "      <th>3</th>\n",
       "      <td>62c02a912199f17ae64a6e3a</td>\n",
       "      <td>A good perspective on the #Russia fake narrati...</td>\n",
       "      <td>a good perspective on the russia fake narrativ...</td>\n",
       "      <td>Worldwide</td>\n",
       "      <td>Sat Jul 02 11:22:52 +0000 2022</td>\n",
       "    </tr>\n",
       "    <tr>\n",
       "      <th>5</th>\n",
       "      <td>62c02a9e2199f17ae64a6e3c</td>\n",
       "      <td>@MU53701477 @abipittbull @Renehaehnlein @Ljudm...</td>\n",
       "      <td>user_mention user_mention user_mention user_me...</td>\n",
       "      <td></td>\n",
       "      <td>Sat Jul 02 11:23:05 +0000 2022</td>\n",
       "    </tr>\n",
       "    <tr>\n",
       "      <th>7</th>\n",
       "      <td>62c02ad82199f17ae64a6e3e</td>\n",
       "      <td>Latest Russia-Ukraine War: Live Updates https:...</td>\n",
       "      <td>latest russiaukraine war live updates URL late...</td>\n",
       "      <td></td>\n",
       "      <td>Sat Jul 02 11:24:03 +0000 2022</td>\n",
       "    </tr>\n",
       "    <tr>\n",
       "      <th>10</th>\n",
       "      <td>62c031265dcb23acdffbcf2f</td>\n",
       "      <td>@EU_Commission @vonderleyen @ua_parliament Tod...</td>\n",
       "      <td>user_mention user_mention user_mention today t...</td>\n",
       "      <td></td>\n",
       "      <td>Sat Jul 02 11:50:57 +0000 2022</td>\n",
       "    </tr>\n",
       "    <tr>\n",
       "      <th>...</th>\n",
       "      <td>...</td>\n",
       "      <td>...</td>\n",
       "      <td>...</td>\n",
       "      <td>...</td>\n",
       "      <td>...</td>\n",
       "    </tr>\n",
       "    <tr>\n",
       "      <th>17175</th>\n",
       "      <td>62c75cb51ca034c21686f3b7</td>\n",
       "      <td>The US and Russia mark Pearl Harbor and Hitler...</td>\n",
       "      <td>the us and russia mark pearl harbor and hitler...</td>\n",
       "      <td>Netherlands</td>\n",
       "      <td>Thu Jul 07 22:22:40 +0000 2022</td>\n",
       "    </tr>\n",
       "    <tr>\n",
       "      <th>17191</th>\n",
       "      <td>62c75e611ca034c21686f411</td>\n",
       "      <td>Jacinda Ardern warns West against isolating Ch...</td>\n",
       "      <td>jacinda ardern warns west against isolating ch...</td>\n",
       "      <td>Australia</td>\n",
       "      <td>Thu Jul 07 22:29:48 +0000 2022</td>\n",
       "    </tr>\n",
       "    <tr>\n",
       "      <th>17204</th>\n",
       "      <td>62c75f9e1ca034c21686f452</td>\n",
       "      <td>Russia's Ukraine invasion is slowly approachin...</td>\n",
       "      <td>russias ukraine invasion is slowly approaching...</td>\n",
       "      <td>ÜT: 40.74037,-74.046637</td>\n",
       "      <td>Thu Jul 07 22:35:05 +0000 2022</td>\n",
       "    </tr>\n",
       "    <tr>\n",
       "      <th>17222</th>\n",
       "      <td>62c761f11ca034c21686f4c9</td>\n",
       "      <td>#EnergyNewsMonitor | #China’s #coal imports su...</td>\n",
       "      <td>energynewsmonitor chinas coal imports surged ...</td>\n",
       "      <td>Nariman Point, Mumbai, India</td>\n",
       "      <td>Thu Jul 07 22:45:00 +0000 2022</td>\n",
       "    </tr>\n",
       "    <tr>\n",
       "      <th>17231</th>\n",
       "      <td>62c762b31ca034c21686f4fe</td>\n",
       "      <td>Putin says his Ukraine operation has hardly ev...</td>\n",
       "      <td>putin says his ukraine operation has hardly ev...</td>\n",
       "      <td></td>\n",
       "      <td>Thu Jul 07 22:48:14 +0000 2022</td>\n",
       "    </tr>\n",
       "  </tbody>\n",
       "</table>\n",
       "<p>8311 rows × 5 columns</p>\n",
       "</div>"
      ],
      "text/plain": [
       "                       TweetsID  \\\n",
       "1      62c025362199f17ae64a6e2f   \n",
       "3      62c02a912199f17ae64a6e3a   \n",
       "5      62c02a9e2199f17ae64a6e3c   \n",
       "7      62c02ad82199f17ae64a6e3e   \n",
       "10     62c031265dcb23acdffbcf2f   \n",
       "...                         ...   \n",
       "17175  62c75cb51ca034c21686f3b7   \n",
       "17191  62c75e611ca034c21686f411   \n",
       "17204  62c75f9e1ca034c21686f452   \n",
       "17222  62c761f11ca034c21686f4c9   \n",
       "17231  62c762b31ca034c21686f4fe   \n",
       "\n",
       "                                               RawTweets  \\\n",
       "1      The insurance industry has an opportunity to d...   \n",
       "3      A good perspective on the #Russia fake narrati...   \n",
       "5      @MU53701477 @abipittbull @Renehaehnlein @Ljudm...   \n",
       "7      Latest Russia-Ukraine War: Live Updates https:...   \n",
       "10     @EU_Commission @vonderleyen @ua_parliament Tod...   \n",
       "...                                                  ...   \n",
       "17175  The US and Russia mark Pearl Harbor and Hitler...   \n",
       "17191  Jacinda Ardern warns West against isolating Ch...   \n",
       "17204  Russia's Ukraine invasion is slowly approachin...   \n",
       "17222  #EnergyNewsMonitor | #China’s #coal imports su...   \n",
       "17231  Putin says his Ukraine operation has hardly ev...   \n",
       "\n",
       "                                          Cleaned_Tweets  \\\n",
       "1      the insurance industry has an opportunity to d...   \n",
       "3      a good perspective on the russia fake narrativ...   \n",
       "5      user_mention user_mention user_mention user_me...   \n",
       "7      latest russiaukraine war live updates URL late...   \n",
       "10     user_mention user_mention user_mention today t...   \n",
       "...                                                  ...   \n",
       "17175  the us and russia mark pearl harbor and hitler...   \n",
       "17191  jacinda ardern warns west against isolating ch...   \n",
       "17204  russias ukraine invasion is slowly approaching...   \n",
       "17222   energynewsmonitor chinas coal imports surged ...   \n",
       "17231  putin says his ukraine operation has hardly ev...   \n",
       "\n",
       "                      User_Location                            Date  \n",
       "1                        London, UK  Sat Jul 02 11:00:00 +0000 2022  \n",
       "3                         Worldwide  Sat Jul 02 11:22:52 +0000 2022  \n",
       "5                                    Sat Jul 02 11:23:05 +0000 2022  \n",
       "7                                    Sat Jul 02 11:24:03 +0000 2022  \n",
       "10                                   Sat Jul 02 11:50:57 +0000 2022  \n",
       "...                             ...                             ...  \n",
       "17175                   Netherlands  Thu Jul 07 22:22:40 +0000 2022  \n",
       "17191                     Australia  Thu Jul 07 22:29:48 +0000 2022  \n",
       "17204       ÜT: 40.74037,-74.046637  Thu Jul 07 22:35:05 +0000 2022  \n",
       "17222  Nariman Point, Mumbai, India  Thu Jul 07 22:45:00 +0000 2022  \n",
       "17231                                Thu Jul 07 22:48:14 +0000 2022  \n",
       "\n",
       "[8311 rows x 5 columns]"
      ]
     },
     "execution_count": 56,
     "metadata": {},
     "output_type": "execute_result"
    }
   ],
   "source": [
    "processing_data[processing_data.duplicated(['Cleaned_Tweets'], keep='first')]"
   ]
  },
  {
   "cell_type": "code",
   "execution_count": 57,
   "metadata": {},
   "outputs": [],
   "source": [
    "processing_data=processing_data.drop_duplicates(subset=['Cleaned_Tweets'],keep='first') #Removing by TweetsText Column"
   ]
  },
  {
   "cell_type": "code",
   "execution_count": 58,
   "metadata": {},
   "outputs": [
    {
     "data": {
      "text/html": [
       "<div>\n",
       "<style scoped>\n",
       "    .dataframe tbody tr th:only-of-type {\n",
       "        vertical-align: middle;\n",
       "    }\n",
       "\n",
       "    .dataframe tbody tr th {\n",
       "        vertical-align: top;\n",
       "    }\n",
       "\n",
       "    .dataframe thead th {\n",
       "        text-align: right;\n",
       "    }\n",
       "</style>\n",
       "<table border=\"1\" class=\"dataframe\">\n",
       "  <thead>\n",
       "    <tr style=\"text-align: right;\">\n",
       "      <th></th>\n",
       "      <th>TweetsID</th>\n",
       "      <th>RawTweets</th>\n",
       "      <th>Cleaned_Tweets</th>\n",
       "      <th>User_Location</th>\n",
       "      <th>Date</th>\n",
       "    </tr>\n",
       "  </thead>\n",
       "  <tbody>\n",
       "  </tbody>\n",
       "</table>\n",
       "</div>"
      ],
      "text/plain": [
       "Empty DataFrame\n",
       "Columns: [TweetsID, RawTweets, Cleaned_Tweets, User_Location, Date]\n",
       "Index: []"
      ]
     },
     "execution_count": 58,
     "metadata": {},
     "output_type": "execute_result"
    }
   ],
   "source": [
    "processing_data[processing_data.duplicated(['Cleaned_Tweets'], keep='first')] #Re-checking to confirm duplicate tweet is removed."
   ]
  },
  {
   "cell_type": "code",
   "execution_count": 64,
   "metadata": {},
   "outputs": [],
   "source": [
    "#processing_data.head(2)"
   ]
  },
  {
   "cell_type": "code",
   "execution_count": 60,
   "metadata": {},
   "outputs": [
    {
     "name": "stdout",
     "output_type": "stream",
     "text": [
      "<class 'pandas.core.frame.DataFrame'>\n",
      "Int64Index: 8950 entries, 0 to 17260\n",
      "Data columns (total 5 columns):\n",
      " #   Column          Non-Null Count  Dtype \n",
      "---  ------          --------------  ----- \n",
      " 0   TweetsID        8950 non-null   object\n",
      " 1   RawTweets       8950 non-null   object\n",
      " 2   Cleaned_Tweets  8950 non-null   object\n",
      " 3   User_Location   8950 non-null   object\n",
      " 4   Date            8950 non-null   object\n",
      "dtypes: object(5)\n",
      "memory usage: 419.5+ KB\n"
     ]
    }
   ],
   "source": [
    "processing_data.info() #Distincts Tweets is 8950. 8311 duplicates have beennremoved"
   ]
  },
  {
   "cell_type": "code",
   "execution_count": 61,
   "metadata": {},
   "outputs": [],
   "source": [
    "processing_data.to_csv('Cleaned.csv', index = False) #Saving distinct cleaned Tweets to CSV File"
   ]
  },
  {
   "cell_type": "code",
   "execution_count": null,
   "metadata": {},
   "outputs": [],
   "source": []
  },
  {
   "cell_type": "markdown",
   "metadata": {},
   "source": [
    "## Coresponding function for above analysis"
   ]
  },
  {
   "cell_type": "code",
   "execution_count": 25,
   "metadata": {},
   "outputs": [],
   "source": [
    "def process_tweet(tweets):\n",
    "    \n",
    "    #for twit in tweets:      \n",
    "    # Convert to lower case\n",
    "    tweet= tweets.lower()\n",
    "    # Replaces URLs with the word URL\n",
    "    tweet = re.sub(r'((www\\.[\\S]+)|(https?://[\\S]+))', ' URL ', tweet)\n",
    "    # Replace @handle with the word USER_MENTION\n",
    "    tweet = re.sub(r'@[\\S]+', 'user_mention', tweet)\n",
    "    # Replaces #hashtag with hashtag\n",
    "    tweet = re.sub(r'#(\\S+)', r' \\1 ', tweet)\n",
    "    # Remove RT (retweet)\n",
    "    tweet = re.sub(r'\\brt\\b', 'RT', tweet)\n",
    "    # Replace 2+ dots with space\n",
    "    tweet = re.sub(r'\\.{2,}', ' ', tweet)\n",
    "    # Strip space, \" and ' from tweet\n",
    "    tweet = re.sub(r'[^\\w\\s]','',tweet)\n",
    "    # Replace emojis with either EMO_POS or EMO_NEG\n",
    "    tweet = handle_emojis(tweet)\n",
    "    # Replace multiple spaces with a single space\n",
    "    tweet = re.sub(r'\\s+', ' ', tweet)\n",
    "    #tweet=[char for char in tweet if char not in string.punctuation]\n",
    "    words = ''.join(tweet)\n",
    "    tweet = words\n",
    "    return tweet\n"
   ]
  },
  {
   "cell_type": "code",
   "execution_count": 26,
   "metadata": {},
   "outputs": [],
   "source": [
    "def handle_emojis(tweet):\n",
    "    # Smile -- :), : ), :-), (:, ( :, (-:, :')\n",
    "    tweet = re.sub(r'(:\\s?\\)|:-\\)|\\(\\s?:|\\(-:|:\\'\\))', ' EMO_POS ', tweet)\n",
    "    # Laugh -- :D, : D, :-D, xD, x-D, XD, X-D\n",
    "    tweet = re.sub(r'(:\\s?D|:-D|x-?D|X-?D)', ' EMO_POS ', tweet)\n",
    "    # Love -- <3, :*\n",
    "    tweet = re.sub(r'(<3|:\\*)', ' EMO_POS ', tweet)\n",
    "    # Wink -- ;-), ;), ;-D, ;D, (;,  (-;\n",
    "    tweet = re.sub(r'(;-?\\)|;-?D|\\(-?;)', ' EMO_POS ', tweet)\n",
    "    # Sad -- :-(, : (, :(, ):, )-:\n",
    "    tweet = re.sub(r'(:\\s?\\(|:-\\(|\\)\\s?:|\\)-:)', ' EMO_NEG ', tweet)\n",
    "    # Cry -- :,(, :'(, :\"(\n",
    "    tweet = re.sub(r'(:,\\(|:\\'\\(|:\"\\()', ' EMO_NEG ', tweet)\n",
    "    return tweet"
   ]
  },
  {
   "cell_type": "code",
   "execution_count": 41,
   "metadata": {},
   "outputs": [],
   "source": [
    "import csv\n",
    "import re\n",
    "def get_tweet_content():\n",
    "    #import csv    \n",
    "    from datetime import datetime\n",
    "    lex1=[]\n",
    "    \n",
    "    reader = csv.reader(open('processedTwit.csv', 'r',encoding=\"utf8\"))\n",
    "    csvreader = csv.reader(reader)\n",
    "    next(reader)\n",
    "    for line in reader:\n",
    "        lex={}\n",
    "        TweetsID,Time_Created,TweetsText,User_Location= line\n",
    "        lex['TweetsID']=str(TweetsID)\n",
    "        lex['RawTweets']=TweetsText\n",
    "        lex['Cleaned_Tweets']=TweetsText\n",
    "        lex['User_Location']=User_Location\n",
    "        lex['Date']=Time_Created\n",
    "        #lex['Short_Date']=S_Date\n",
    "    # ignore retweets \n",
    "        #if (lex['User_Location']==''):        \n",
    "            #lex['User_Location']='LOCATION'\n",
    "        if lex['Cleaned_Tweets'].startswith('RT') or len(lex['Cleaned_Tweets']) < 1:\n",
    "                pass \n",
    "        else:\n",
    "            lex['Cleaned_Tweets']=process_tweet(TweetsText)\n",
    "            lex['RawTweets']=TweetsText\n",
    "            lex1.append(lex)\n",
    "    \n",
    "    return lex1"
   ]
  },
  {
   "cell_type": "code",
   "execution_count": 28,
   "metadata": {},
   "outputs": [],
   "source": [
    "def plot_Raw_TweetsCount_ByDays():\n",
    "    ts_date = raw_Tweets['S_Date']\n",
    "    ts_date = ts_date.tolist()\n",
    "    ts_date_dict = dict(Counter(ts_date))\n",
    "    tsdata = pd.DataFrame({'date' : list(ts_date_dict.keys()), 'count_tweets' : list(ts_date_dict.values())})\n",
    "    tsdata = tsdata.sort_values('date')\n",
    "    tsdata = tsdata.set_index('date')\n",
    "    a4_dims = (11.7, 8.27)\n",
    "    fig, ax = plt.subplots(figsize=a4_dims)\n",
    "    ax.set_xticklabels(tsdata.index, rotation=90)\n",
    "    fig.suptitle('Raw Tweets:\\nNumber of Tweets Per Day', fontsize=20)\n",
    "    plt.xlabel('Period of Data Collection', fontsize=18)\n",
    "    plt.ylabel('Frequency', fontsize=16)\n",
    "    plt.plot(tsdata)\n",
    "    fig.savefig('Cleaned Tweets:\\nNumber of Tweets Per Day.jpg')"
   ]
  },
  {
   "cell_type": "code",
   "execution_count": 29,
   "metadata": {},
   "outputs": [],
   "source": [
    "def plot_Cleaned_TweetsCount_ByDays():\n",
    "    ts_date = processing_data['Short_Date']\n",
    "    ts_date = ts_date.tolist()\n",
    "    ts_date_dict = dict(Counter(ts_date))\n",
    "    tsdata = pd.DataFrame({'date' : list(ts_date_dict.keys()), 'count_tweets' : list(ts_date_dict.values())})\n",
    "    tsdata = tsdata.sort_values('date')\n",
    "    tsdata = tsdata.set_index('date')\n",
    "    a4_dims = (11.7, 8.27)\n",
    "    fig, ax = plt.subplots(figsize=a4_dims)\n",
    "    ax.set_xticklabels(tsdata.index, rotation=90)\n",
    "    fig.suptitle('Cleaned Tweets:\\nNumber of Tweets Per Day', fontsize=20)\n",
    "    plt.xlabel('Period of Data Collection', fontsize=18)\n",
    "    plt.ylabel('Frequency', fontsize=16)\n",
    "    plt.plot(tsdata)\n",
    "    fig.savefig('Number of Tweets Per Day.jpg')"
   ]
  },
  {
   "cell_type": "code",
   "execution_count": null,
   "metadata": {},
   "outputs": [],
   "source": []
  }
 ],
 "metadata": {
  "kernelspec": {
   "display_name": "Python 3",
   "language": "python",
   "name": "python3"
  },
  "language_info": {
   "codemirror_mode": {
    "name": "ipython",
    "version": 3
   },
   "file_extension": ".py",
   "mimetype": "text/x-python",
   "name": "python",
   "nbconvert_exporter": "python",
   "pygments_lexer": "ipython3",
   "version": "3.7.6"
  }
 },
 "nbformat": 4,
 "nbformat_minor": 4
}
